{
  "nbformat": 4,
  "nbformat_minor": 0,
  "metadata": {
    "colab": {
      "provenance": []
    },
    "kernelspec": {
      "name": "python3",
      "display_name": "Python 3"
    },
    "language_info": {
      "name": "python"
    }
  },
  "cells": [
    {
      "cell_type": "code",
      "execution_count": 69,
      "metadata": {
        "id": "sEYFwSypPMEm"
      },
      "outputs": [],
      "source": [
        "import timeit\n",
        "from sklearn.datasets import fetch_openml\n",
        "from sklearn.ensemble import RandomForestClassifier\n",
        "from sklearn.model_selection import train_test_split\n",
        "from sklearn.metrics import accuracy_score\n",
        "import matplotlib.pyplot as plt\n",
        "from sklearn.decomposition import PCA\n",
        "from sklearn.metrics import classification_report"
      ]
    },
    {
      "cell_type": "code",
      "source": [
        "# Carregar o dataset MNIST\n",
        "mnist = fetch_openml('mnist_784', version=1, parser='auto')\n",
        "mnist.keys()"
      ],
      "metadata": {
        "colab": {
          "base_uri": "https://localhost:8080/"
        },
        "id": "owCoGmJBQG50",
        "outputId": "fc2ffdbd-efe6-42d6-a958-84d6c60dd348"
      },
      "execution_count": 70,
      "outputs": [
        {
          "output_type": "execute_result",
          "data": {
            "text/plain": [
              "dict_keys(['data', 'target', 'frame', 'categories', 'feature_names', 'target_names', 'DESCR', 'details', 'url'])"
            ]
          },
          "metadata": {},
          "execution_count": 70
        }
      ]
    },
    {
      "cell_type": "code",
      "source": [
        "X, y = mnist[\"data\"], mnist[\"target\"]\n",
        "print(X.shape)\n",
        "print(y.shape)"
      ],
      "metadata": {
        "colab": {
          "base_uri": "https://localhost:8080/"
        },
        "id": "tyX3lDIFQUcp",
        "outputId": "02889f21-89d8-4fb6-e0b0-a34ff7a5b4a9"
      },
      "execution_count": 71,
      "outputs": [
        {
          "output_type": "stream",
          "name": "stdout",
          "text": [
            "(70000, 784)\n",
            "(70000,)\n"
          ]
        }
      ]
    },
    {
      "cell_type": "code",
      "source": [
        "# Dividir em treino e teste\n",
        "X_train, X_test, y_train, y_test = train_test_split(X, y, test_size=0.2, random_state=42)"
      ],
      "metadata": {
        "id": "kh4o3DnOQpJA"
      },
      "execution_count": 72,
      "outputs": []
    },
    {
      "cell_type": "markdown",
      "source": [
        "# ============================================================\n",
        "# Modelo 1: Random Forest no conjunto original\n",
        "# ============================================================"
      ],
      "metadata": {
        "id": "w_l-KMVhWY-E"
      }
    },
    {
      "cell_type": "code",
      "source": [
        "# Criar o modelo Random Forest\n",
        "rf1 = RandomForestClassifier(n_estimators=100, random_state=42, n_jobs=-1)"
      ],
      "metadata": {
        "id": "mqiZ6SudQ_Xq"
      },
      "execution_count": 73,
      "outputs": []
    },
    {
      "cell_type": "code",
      "source": [
        "# Tempo de treino\n",
        "start = timeit.default_timer()\n",
        "rf1.fit(X_train, y_train)\n",
        "end = timeit.default_timer()\n",
        "tempo_treino1 = end - start"
      ],
      "metadata": {
        "id": "Mqw58sOjS-if"
      },
      "execution_count": 74,
      "outputs": []
    },
    {
      "cell_type": "code",
      "source": [
        "# Tempo de previsão\n",
        "start = timeit.default_timer()\n",
        "y_pred1 = rf1.predict(X_test)\n",
        "end = timeit.default_timer()\n",
        "tempo_pred1 = end - start"
      ],
      "metadata": {
        "id": "DuuibSwbRWZZ"
      },
      "execution_count": 75,
      "outputs": []
    },
    {
      "cell_type": "code",
      "source": [
        "# acc1 = accuracy_score(y_test, y_pred1)\n",
        "\n",
        "print(\"\\n=== Random Forest sem PCA ===\")\n",
        "print(f\"Tempo treino: {tempo_treino1:.2f} s\")\n",
        "print(f\"Tempo previsão: {tempo_pred1:.2f} s\")\n",
        "print(\"\\n=== Relatório sem PCA ===\")\n",
        "print(classification_report(y_test, y_pred1))"
      ],
      "metadata": {
        "colab": {
          "base_uri": "https://localhost:8080/"
        },
        "id": "C1T8c87IRarR",
        "outputId": "0ac0307b-6381-496a-b4aa-9eac9a70e231"
      },
      "execution_count": 76,
      "outputs": [
        {
          "output_type": "stream",
          "name": "stdout",
          "text": [
            "\n",
            "=== Random Forest sem PCA ===\n",
            "Tempo treino: 39.46 s\n",
            "Tempo previsão: 0.47 s\n",
            "\n",
            "=== Relatório sem PCA ===\n",
            "              precision    recall  f1-score   support\n",
            "\n",
            "           0       0.98      0.99      0.99      1343\n",
            "           1       0.98      0.98      0.98      1600\n",
            "           2       0.95      0.97      0.96      1380\n",
            "           3       0.96      0.95      0.96      1433\n",
            "           4       0.96      0.97      0.97      1295\n",
            "           5       0.97      0.96      0.97      1273\n",
            "           6       0.98      0.98      0.98      1396\n",
            "           7       0.97      0.97      0.97      1503\n",
            "           8       0.96      0.95      0.96      1357\n",
            "           9       0.96      0.95      0.95      1420\n",
            "\n",
            "    accuracy                           0.97     14000\n",
            "   macro avg       0.97      0.97      0.97     14000\n",
            "weighted avg       0.97      0.97      0.97     14000\n",
            "\n"
          ]
        }
      ]
    },
    {
      "cell_type": "markdown",
      "source": [
        "# ============================================================\n",
        "# Modelo 2: Random Forest com PCA (0.95 da variância explicada)\n",
        "# ============================================================"
      ],
      "metadata": {
        "id": "AZ1I-X9JWysz"
      }
    },
    {
      "cell_type": "code",
      "source": [
        "# 2. Aplicar PCA\n",
        "pca = PCA(n_components=0.95)  # manter 95% da variância\n",
        "X_train_pca = pca.fit_transform(X_train)\n",
        "X_test_pca = pca.transform(X_test)"
      ],
      "metadata": {
        "id": "URM8heI7TnjW"
      },
      "execution_count": 81,
      "outputs": []
    },
    {
      "cell_type": "code",
      "source": [
        "# X_train_pca = pca.transform(X_train)\n",
        "# X_test_pca = pca.transform(X_test)\n",
        "\n",
        "print(f\"\\nPCA reduziu de {X_train.shape[1]} para {X_train_pca.shape[1]} dimensões\")"
      ],
      "metadata": {
        "colab": {
          "base_uri": "https://localhost:8080/"
        },
        "id": "R1ovLvSgUBvm",
        "outputId": "1de4e175-e996-41f0-b808-041c7ae8f2ac"
      },
      "execution_count": 82,
      "outputs": [
        {
          "output_type": "stream",
          "name": "stdout",
          "text": [
            "\n",
            "PCA reduziu de 784 para 154 dimensões\n"
          ]
        }
      ]
    },
    {
      "cell_type": "code",
      "source": [
        "# Treinar no novo conjunto\n",
        "rf2 = RandomForestClassifier(n_estimators=100, random_state=42, n_jobs=-1)"
      ],
      "metadata": {
        "id": "bn0-c1v_UIQF"
      },
      "execution_count": 83,
      "outputs": []
    },
    {
      "cell_type": "code",
      "source": [
        "start = timeit.default_timer()\n",
        "rf2.fit(X_train_pca, y_train)\n",
        "end = timeit.default_timer()\n",
        "tempo_treino2 = end - start"
      ],
      "metadata": {
        "id": "oFaJpwrXUuKs"
      },
      "execution_count": 84,
      "outputs": []
    },
    {
      "cell_type": "code",
      "source": [
        "# Aplicar no teste\n",
        "start = timeit.default_timer()\n",
        "y_pred2 = rf2.predict(X_test_pca)\n",
        "end = timeit.default_timer()\n",
        "tempo_pred2 = end - start"
      ],
      "metadata": {
        "id": "0aHtfHEqXqxT"
      },
      "execution_count": 85,
      "outputs": []
    },
    {
      "cell_type": "code",
      "source": [
        "#acc2 = accuracy_score(y_test, y_pred2)\n",
        "\n",
        "print(\"\\n=== Random Forest com PCA (0.95) ===\")\n",
        "print(f\"Tempo treino: {tempo_treino2:.2f} s\")\n",
        "print(f\"Tempo previsão: {tempo_pred2:.2f} s\")\n",
        "print(\"\\n=== Relatório com PCA ===\")\n",
        "print(classification_report(y_test, y_pred2))"
      ],
      "metadata": {
        "colab": {
          "base_uri": "https://localhost:8080/"
        },
        "id": "A49BgIa9X019",
        "outputId": "22ad8165-7f33-4246-856a-e942764c1d81"
      },
      "execution_count": 86,
      "outputs": [
        {
          "output_type": "stream",
          "name": "stdout",
          "text": [
            "\n",
            "=== Random Forest com PCA (0.95) ===\n",
            "Tempo treino: 123.43 s\n",
            "Tempo previsão: 0.32 s\n",
            "\n",
            "=== Relatório com PCA ===\n",
            "              precision    recall  f1-score   support\n",
            "\n",
            "           0       0.97      0.98      0.97      1343\n",
            "           1       0.98      0.98      0.98      1600\n",
            "           2       0.94      0.95      0.94      1380\n",
            "           3       0.91      0.94      0.92      1433\n",
            "           4       0.93      0.96      0.94      1295\n",
            "           5       0.94      0.93      0.93      1273\n",
            "           6       0.97      0.97      0.97      1396\n",
            "           7       0.96      0.95      0.95      1503\n",
            "           8       0.94      0.90      0.92      1357\n",
            "           9       0.94      0.92      0.93      1420\n",
            "\n",
            "    accuracy                           0.95     14000\n",
            "   macro avg       0.95      0.95      0.95     14000\n",
            "weighted avg       0.95      0.95      0.95     14000\n",
            "\n"
          ]
        }
      ]
    },
    {
      "cell_type": "markdown",
      "source": [
        "# ============================================================\n",
        "# Comparação final\n",
        "# ============================================================"
      ],
      "metadata": {
        "id": "6UcpBgNFX491"
      }
    },
    {
      "cell_type": "code",
      "source": [
        "print(\"\\n=== Comparação Final ===\")\n",
        "print(\"\\n=== Relatório sem PCA ===\")\n",
        "print(classification_report(y_test, y_pred1))\n",
        "print(\"\\n=== Relatório com PCA ===\")\n",
        "print(classification_report(y_test, y_pred2))\n",
        "print(f\"Tempo treino sem PCA: {tempo_treino1:.2f}s | com PCA: {tempo_treino2:.2f}s\")\n",
        "print(f\"Tempo previsão sem PCA: {tempo_pred1:.2f}s | com PCA: {tempo_pred2:.2f}s\")"
      ],
      "metadata": {
        "colab": {
          "base_uri": "https://localhost:8080/"
        },
        "id": "HChAKXFRX29k",
        "outputId": "4e183017-3167-47af-efee-92e7ef13b34c"
      },
      "execution_count": 87,
      "outputs": [
        {
          "output_type": "stream",
          "name": "stdout",
          "text": [
            "\n",
            "=== Comparação Final ===\n",
            "\n",
            "=== Relatório sem PCA ===\n",
            "              precision    recall  f1-score   support\n",
            "\n",
            "           0       0.98      0.99      0.99      1343\n",
            "           1       0.98      0.98      0.98      1600\n",
            "           2       0.95      0.97      0.96      1380\n",
            "           3       0.96      0.95      0.96      1433\n",
            "           4       0.96      0.97      0.97      1295\n",
            "           5       0.97      0.96      0.97      1273\n",
            "           6       0.98      0.98      0.98      1396\n",
            "           7       0.97      0.97      0.97      1503\n",
            "           8       0.96      0.95      0.96      1357\n",
            "           9       0.96      0.95      0.95      1420\n",
            "\n",
            "    accuracy                           0.97     14000\n",
            "   macro avg       0.97      0.97      0.97     14000\n",
            "weighted avg       0.97      0.97      0.97     14000\n",
            "\n",
            "\n",
            "=== Relatório com PCA ===\n",
            "              precision    recall  f1-score   support\n",
            "\n",
            "           0       0.97      0.98      0.97      1343\n",
            "           1       0.98      0.98      0.98      1600\n",
            "           2       0.94      0.95      0.94      1380\n",
            "           3       0.91      0.94      0.92      1433\n",
            "           4       0.93      0.96      0.94      1295\n",
            "           5       0.94      0.93      0.93      1273\n",
            "           6       0.97      0.97      0.97      1396\n",
            "           7       0.96      0.95      0.95      1503\n",
            "           8       0.94      0.90      0.92      1357\n",
            "           9       0.94      0.92      0.93      1420\n",
            "\n",
            "    accuracy                           0.95     14000\n",
            "   macro avg       0.95      0.95      0.95     14000\n",
            "weighted avg       0.95      0.95      0.95     14000\n",
            "\n",
            "Tempo treino sem PCA: 39.46s | com PCA: 123.43s\n",
            "Tempo previsão sem PCA: 0.47s | com PCA: 0.32s\n"
          ]
        }
      ]
    }
  ]
}